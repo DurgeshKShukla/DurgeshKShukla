{
  "nbformat": 4,
  "nbformat_minor": 0,
  "metadata": {
    "colab": {
      "provenance": [],
      "include_colab_link": true
    },
    "kernelspec": {
      "name": "python3",
      "display_name": "Python 3"
    },
    "language_info": {
      "name": "python"
    }
  },
  "cells": [
    {
      "cell_type": "markdown",
      "metadata": {
        "id": "view-in-github",
        "colab_type": "text"
      },
      "source": [
        "<a href=\"https://colab.research.google.com/github/DurgeshKShukla/DurgeshKShukla/blob/main/Copy_of_Web_scrapping.ipynb\" target=\"_parent\"><img src=\"https://colab.research.google.com/assets/colab-badge.svg\" alt=\"Open In Colab\"/></a>"
      ]
    },
    {
      "cell_type": "markdown",
      "source": [
        "Extract data from Wikipedia :\n",
        "India - All sates\n",
        "\n",
        "Bollywood Movies  wikipedia page:\n",
        "\n"
      ],
      "metadata": {
        "id": "iBfIeJcKtoQj"
      }
    },
    {
      "cell_type": "code",
      "source": [],
      "metadata": {
        "id": "0GtKCdiTtnZn"
      },
      "execution_count": null,
      "outputs": []
    },
    {
      "cell_type": "code",
      "execution_count": null,
      "metadata": {
        "id": "IPmP4eQtremO"
      },
      "outputs": [],
      "source": [
        "import requests\n",
        "from bs4 import BeautifulSoup as bs"
      ]
    },
    {
      "cell_type": "code",
      "source": [
        "url = 'http://books.toscrape.com/'\n",
        "\n",
        "response = requests.get(url)\n",
        "response"
      ],
      "metadata": {
        "colab": {
          "base_uri": "https://localhost:8080/"
        },
        "id": "VwAigJ5Bsra8",
        "outputId": "1e28345d-897d-4ea6-d83f-8d4b9d30ba21"
      },
      "execution_count": null,
      "outputs": [
        {
          "output_type": "execute_result",
          "data": {
            "text/plain": [
              "<Response [200]>"
            ]
          },
          "metadata": {},
          "execution_count": 2
        }
      ]
    },
    {
      "cell_type": "code",
      "source": [
        "response.status_code"
      ],
      "metadata": {
        "colab": {
          "base_uri": "https://localhost:8080/"
        },
        "id": "M8rk4Lhytctv",
        "outputId": "b5048616-ecae-4fc4-8e33-7d75f359cbcd"
      },
      "execution_count": null,
      "outputs": [
        {
          "output_type": "execute_result",
          "data": {
            "text/plain": [
              "200"
            ]
          },
          "metadata": {},
          "execution_count": 3
        }
      ]
    },
    {
      "cell_type": "code",
      "source": [
        "type(response)"
      ],
      "metadata": {
        "colab": {
          "base_uri": "https://localhost:8080/",
          "height": 138
        },
        "id": "hsxAu29PuYjY",
        "outputId": "2dab1dbf-ecbd-479a-9b76-4e0a4f4eca60"
      },
      "execution_count": null,
      "outputs": [
        {
          "output_type": "execute_result",
          "data": {
            "text/plain": [
              "requests.models.Response"
            ],
            "text/html": [
              "<div style=\"max-width:800px; border: 1px solid var(--colab-border-color);\"><style>\n",
              "      pre.function-repr-contents {\n",
              "        overflow-x: auto;\n",
              "        padding: 8px 12px;\n",
              "        max-height: 500px;\n",
              "      }\n",
              "\n",
              "      pre.function-repr-contents.function-repr-contents-collapsed {\n",
              "        cursor: pointer;\n",
              "        max-height: 100px;\n",
              "      }\n",
              "    </style>\n",
              "    <pre style=\"white-space: initial; background:\n",
              "         var(--colab-secondary-surface-color); padding: 8px 12px;\n",
              "         border-bottom: 1px solid var(--colab-border-color);\"><b>requests.models.Response</b><br/>def __init__()</pre><pre class=\"function-repr-contents function-repr-contents-collapsed\" style=\"\"><a class=\"filepath\" style=\"display:none\" href=\"#\">/usr/local/lib/python3.10/dist-packages/requests/models.py</a>The :class:`Response &lt;Response&gt;` object, which contains a\n",
              "server&#x27;s response to an HTTP request.</pre>\n",
              "      <script>\n",
              "      if (google.colab.kernel.accessAllowed && google.colab.files && google.colab.files.view) {\n",
              "        for (const element of document.querySelectorAll('.filepath')) {\n",
              "          element.style.display = 'block'\n",
              "          element.onclick = (event) => {\n",
              "            event.preventDefault();\n",
              "            event.stopPropagation();\n",
              "            google.colab.files.view(element.textContent, 641);\n",
              "          };\n",
              "        }\n",
              "      }\n",
              "      for (const element of document.querySelectorAll('.function-repr-contents')) {\n",
              "        element.onclick = (event) => {\n",
              "          event.preventDefault();\n",
              "          event.stopPropagation();\n",
              "          element.classList.toggle('function-repr-contents-collapsed');\n",
              "        };\n",
              "      }\n",
              "      </script>\n",
              "      </div>"
            ]
          },
          "metadata": {},
          "execution_count": 4
        }
      ]
    },
    {
      "cell_type": "code",
      "source": [
        "print(response.text[:1000])"
      ],
      "metadata": {
        "colab": {
          "base_uri": "https://localhost:8080/"
        },
        "id": "4IPTBHsetiWl",
        "outputId": "10fc9384-0db2-4c66-ecee-f40524d7e3a3"
      },
      "execution_count": null,
      "outputs": [
        {
          "output_type": "stream",
          "name": "stdout",
          "text": [
            "<!DOCTYPE html>\n",
            "<!--[if lt IE 7]>      <html lang=\"en-us\" class=\"no-js lt-ie9 lt-ie8 lt-ie7\"> <![endif]-->\n",
            "<!--[if IE 7]>         <html lang=\"en-us\" class=\"no-js lt-ie9 lt-ie8\"> <![endif]-->\n",
            "<!--[if IE 8]>         <html lang=\"en-us\" class=\"no-js lt-ie9\"> <![endif]-->\n",
            "<!--[if gt IE 8]><!--> <html lang=\"en-us\" class=\"no-js\"> <!--<![endif]-->\n",
            "    <head>\n",
            "        <title>\n",
            "    All products | Books to Scrape - Sandbox\n",
            "</title>\n",
            "\n",
            "        <meta http-equiv=\"content-type\" content=\"text/html; charset=UTF-8\" />\n",
            "        <meta name=\"created\" content=\"24th Jun 2016 09:29\" />\n",
            "        <meta name=\"description\" content=\"\" />\n",
            "        <meta name=\"viewport\" content=\"width=device-width\" />\n",
            "        <meta name=\"robots\" content=\"NOARCHIVE,NOCACHE\" />\n",
            "\n",
            "        <!-- Le HTML5 shim, for IE6-8 support of HTML elements -->\n",
            "        <!--[if lt IE 9]>\n",
            "        <script src=\"//html5shim.googlecode.com/svn/trunk/html5.js\"></script>\n",
            "        <![endif]-->\n",
            "\n",
            "        \n",
            "            <link rel=\"shortcut icon\" href=\"static/oscar/favicon.\n"
          ]
        }
      ]
    },
    {
      "cell_type": "code",
      "source": [
        "type(response.text)"
      ],
      "metadata": {
        "colab": {
          "base_uri": "https://localhost:8080/"
        },
        "id": "dGO0ueEqu6_M",
        "outputId": "5b4f4c8d-ead1-4dc4-a8b8-21889e10e606"
      },
      "execution_count": null,
      "outputs": [
        {
          "output_type": "execute_result",
          "data": {
            "text/plain": [
              "str"
            ]
          },
          "metadata": {},
          "execution_count": 6
        }
      ]
    },
    {
      "cell_type": "code",
      "source": [
        "soup = bs(response.text)\n",
        "type(soup)"
      ],
      "metadata": {
        "colab": {
          "base_uri": "https://localhost:8080/",
          "height": 186
        },
        "id": "djAzAK5rvSz6",
        "outputId": "25bdc062-46c6-4e7f-8720-d9c56c68ec4f"
      },
      "execution_count": null,
      "outputs": [
        {
          "output_type": "execute_result",
          "data": {
            "text/plain": [
              "bs4.BeautifulSoup"
            ],
            "text/html": [
              "<div style=\"max-width:800px; border: 1px solid var(--colab-border-color);\"><style>\n",
              "      pre.function-repr-contents {\n",
              "        overflow-x: auto;\n",
              "        padding: 8px 12px;\n",
              "        max-height: 500px;\n",
              "      }\n",
              "\n",
              "      pre.function-repr-contents.function-repr-contents-collapsed {\n",
              "        cursor: pointer;\n",
              "        max-height: 100px;\n",
              "      }\n",
              "    </style>\n",
              "    <pre style=\"white-space: initial; background:\n",
              "         var(--colab-secondary-surface-color); padding: 8px 12px;\n",
              "         border-bottom: 1px solid var(--colab-border-color);\"><b>bs4.BeautifulSoup</b><br/>def __call__(*args, **kwargs)</pre><pre class=\"function-repr-contents function-repr-contents-collapsed\" style=\"\"><a class=\"filepath\" style=\"display:none\" href=\"#\">/usr/local/lib/python3.10/dist-packages/bs4/__init__.py</a>A data structure representing a parsed HTML or XML document.\n",
              "\n",
              "Most of the methods you&#x27;ll call on a BeautifulSoup object are inherited from\n",
              "PageElement or Tag.\n",
              "\n",
              "Internally, this class defines the basic interface called by the\n",
              "tree builders when converting an HTML/XML document into a data\n",
              "structure. The interface abstracts away the differences between\n",
              "parsers. To write a new tree builder, you&#x27;ll need to understand\n",
              "these methods as a whole.\n",
              "\n",
              "These methods will be called by the BeautifulSoup constructor:\n",
              "  * reset()\n",
              "  * feed(markup)\n",
              "\n",
              "The tree builder may call these methods from its feed() implementation:\n",
              "  * handle_starttag(name, attrs) # See note about return value\n",
              "  * handle_endtag(name)\n",
              "  * handle_data(data) # Appends to the current data node\n",
              "  * endData(containerClass) # Ends the current data node\n",
              "\n",
              "No matter how complicated the underlying parser is, you should be\n",
              "able to build a tree using &#x27;start tag&#x27; events, &#x27;end tag&#x27; events,\n",
              "&#x27;data&#x27; events, and &quot;done with data&quot; events.\n",
              "\n",
              "If you encounter an empty-element tag (aka a self-closing tag,\n",
              "like HTML&#x27;s &lt;br&gt; tag), call handle_starttag and then\n",
              "handle_endtag.</pre>\n",
              "      <script>\n",
              "      if (google.colab.kernel.accessAllowed && google.colab.files && google.colab.files.view) {\n",
              "        for (const element of document.querySelectorAll('.filepath')) {\n",
              "          element.style.display = 'block'\n",
              "          element.onclick = (event) => {\n",
              "            event.preventDefault();\n",
              "            event.stopPropagation();\n",
              "            google.colab.files.view(element.textContent, 76);\n",
              "          };\n",
              "        }\n",
              "      }\n",
              "      for (const element of document.querySelectorAll('.function-repr-contents')) {\n",
              "        element.onclick = (event) => {\n",
              "          event.preventDefault();\n",
              "          event.stopPropagation();\n",
              "          element.classList.toggle('function-repr-contents-collapsed');\n",
              "        };\n",
              "      }\n",
              "      </script>\n",
              "      </div>"
            ]
          },
          "metadata": {},
          "execution_count": 4
        }
      ]
    },
    {
      "cell_type": "code",
      "source": [
        "soup.find('title').text"
      ],
      "metadata": {
        "colab": {
          "base_uri": "https://localhost:8080/",
          "height": 35
        },
        "id": "m0RfWeFXv_Ei",
        "outputId": "c37fab1f-ab66-41dd-f56a-4546bb134082"
      },
      "execution_count": null,
      "outputs": [
        {
          "output_type": "execute_result",
          "data": {
            "text/plain": [
              "'\\n    All products | Books to Scrape - Sandbox\\n'"
            ],
            "application/vnd.google.colaboratory.intrinsic+json": {
              "type": "string"
            }
          },
          "metadata": {},
          "execution_count": 8
        }
      ]
    },
    {
      "cell_type": "code",
      "source": [
        "soup.find('title').text.strip()"
      ],
      "metadata": {
        "colab": {
          "base_uri": "https://localhost:8080/",
          "height": 35
        },
        "id": "-rpzn9x_wUbs",
        "outputId": "ede670ca-4d33-43f9-988f-9b18c949d397"
      },
      "execution_count": null,
      "outputs": [
        {
          "output_type": "execute_result",
          "data": {
            "text/plain": [
              "'All products | Books to Scrape - Sandbox'"
            ],
            "application/vnd.google.colaboratory.intrinsic+json": {
              "type": "string"
            }
          },
          "metadata": {},
          "execution_count": 9
        }
      ]
    },
    {
      "cell_type": "code",
      "source": [
        "books_tag = soup.find_all('article',class_='product_pod')"
      ],
      "metadata": {
        "id": "fjCKrf_5wakE"
      },
      "execution_count": null,
      "outputs": []
    },
    {
      "cell_type": "code",
      "source": [
        "len(books_tag)"
      ],
      "metadata": {
        "colab": {
          "base_uri": "https://localhost:8080/"
        },
        "id": "vdXeHKrnxcTz",
        "outputId": "2aca1752-3cda-496c-ddba-964af2cf9292"
      },
      "execution_count": null,
      "outputs": [
        {
          "output_type": "execute_result",
          "data": {
            "text/plain": [
              "20"
            ]
          },
          "metadata": {},
          "execution_count": 11
        }
      ]
    },
    {
      "cell_type": "code",
      "source": [
        "book = books_tag[0]\n",
        "print(book)"
      ],
      "metadata": {
        "colab": {
          "base_uri": "https://localhost:8080/"
        },
        "id": "aiSNWtNCxoI_",
        "outputId": "7111d644-c746-4d5f-9365-e48771f076e1"
      },
      "execution_count": null,
      "outputs": [
        {
          "output_type": "stream",
          "name": "stdout",
          "text": [
            "<article class=\"product_pod\">\n",
            "<div class=\"image_container\">\n",
            "<a href=\"catalogue/a-light-in-the-attic_1000/index.html\"><img alt=\"A Light in the Attic\" class=\"thumbnail\" src=\"media/cache/2c/da/2cdad67c44b002e7ead0cc35693c0e8b.jpg\"/></a>\n",
            "</div>\n",
            "<p class=\"star-rating Three\">\n",
            "<i class=\"icon-star\"></i>\n",
            "<i class=\"icon-star\"></i>\n",
            "<i class=\"icon-star\"></i>\n",
            "<i class=\"icon-star\"></i>\n",
            "<i class=\"icon-star\"></i>\n",
            "</p>\n",
            "<h3><a href=\"catalogue/a-light-in-the-attic_1000/index.html\" title=\"A Light in the Attic\">A Light in the ...</a></h3>\n",
            "<div class=\"product_price\">\n",
            "<p class=\"price_color\">Â£51.77</p>\n",
            "<p class=\"instock availability\">\n",
            "<i class=\"icon-ok\"></i>\n",
            "    \n",
            "        In stock\n",
            "    \n",
            "</p>\n",
            "<form>\n",
            "<button class=\"btn btn-primary btn-block\" data-loading-text=\"Adding...\" type=\"submit\">Add to basket</button>\n",
            "</form>\n",
            "</div>\n",
            "</article>\n"
          ]
        }
      ]
    },
    {
      "cell_type": "code",
      "source": [
        "title_tag = book.find('a',title=True)\n",
        "title_tag"
      ],
      "metadata": {
        "colab": {
          "base_uri": "https://localhost:8080/"
        },
        "id": "JTyFJarTyDHu",
        "outputId": "99e77531-6a94-47ea-e5b1-375f6365e481"
      },
      "execution_count": null,
      "outputs": [
        {
          "output_type": "execute_result",
          "data": {
            "text/plain": [
              "<a href=\"catalogue/a-light-in-the-attic_1000/index.html\" title=\"A Light in the Attic\">A Light in the ...</a>"
            ]
          },
          "metadata": {},
          "execution_count": 13
        }
      ]
    },
    {
      "cell_type": "code",
      "source": [
        "title_tag.text"
      ],
      "metadata": {
        "colab": {
          "base_uri": "https://localhost:8080/",
          "height": 35
        },
        "id": "Rh5HnNe9yaaB",
        "outputId": "602a0279-4c9b-4bed-fb9e-a681cb190c53"
      },
      "execution_count": null,
      "outputs": [
        {
          "output_type": "execute_result",
          "data": {
            "text/plain": [
              "'A Light in the ...'"
            ],
            "application/vnd.google.colaboratory.intrinsic+json": {
              "type": "string"
            }
          },
          "metadata": {},
          "execution_count": 13
        }
      ]
    },
    {
      "cell_type": "code",
      "source": [
        "title_tag['href']"
      ],
      "metadata": {
        "colab": {
          "base_uri": "https://localhost:8080/",
          "height": 35
        },
        "id": "cG6tUrgdyfhO",
        "outputId": "b97611b9-725c-4acc-d65b-3b07c863cf09"
      },
      "execution_count": null,
      "outputs": [
        {
          "output_type": "execute_result",
          "data": {
            "text/plain": [
              "'catalogue/a-light-in-the-attic_1000/index.html'"
            ],
            "application/vnd.google.colaboratory.intrinsic+json": {
              "type": "string"
            }
          },
          "metadata": {},
          "execution_count": 14
        }
      ]
    },
    {
      "cell_type": "code",
      "source": [
        "title_tag['title']"
      ],
      "metadata": {
        "colab": {
          "base_uri": "https://localhost:8080/",
          "height": 35
        },
        "id": "7ox4vJnnynPJ",
        "outputId": "35aefc41-c551-4c7d-91b4-078627676a18"
      },
      "execution_count": null,
      "outputs": [
        {
          "output_type": "execute_result",
          "data": {
            "text/plain": [
              "'A Light in the Attic'"
            ],
            "application/vnd.google.colaboratory.intrinsic+json": {
              "type": "string"
            }
          },
          "metadata": {},
          "execution_count": 15
        }
      ]
    },
    {
      "cell_type": "code",
      "source": [
        "book.find('p')['class'][1]"
      ],
      "metadata": {
        "colab": {
          "base_uri": "https://localhost:8080/",
          "height": 35
        },
        "id": "LcHpgoAOy2JV",
        "outputId": "2b8f06ac-7e8b-4991-e4d6-32866e98b25a"
      },
      "execution_count": null,
      "outputs": [
        {
          "output_type": "execute_result",
          "data": {
            "text/plain": [
              "'Three'"
            ],
            "application/vnd.google.colaboratory.intrinsic+json": {
              "type": "string"
            }
          },
          "metadata": {},
          "execution_count": 21
        }
      ]
    },
    {
      "cell_type": "code",
      "source": [
        "title_tag1 = book.find_all('a',title=True)\n",
        "title_tag1"
      ],
      "metadata": {
        "colab": {
          "base_uri": "https://localhost:8080/"
        },
        "id": "TpaSLNcC86R_",
        "outputId": "3dc5d789-544b-441a-85c8-18ac4b2b09d2"
      },
      "execution_count": null,
      "outputs": [
        {
          "output_type": "execute_result",
          "data": {
            "text/plain": [
              "[<a href=\"catalogue/a-light-in-the-attic_1000/index.html\" title=\"A Light in the Attic\">A Light in the ...</a>]"
            ]
          },
          "metadata": {},
          "execution_count": 22
        }
      ]
    },
    {
      "cell_type": "code",
      "source": [
        " # Extracting book titles\n",
        "book_titles = soup.find_all('h3')\n",
        "for title in book_titles:\n",
        "        print(title.a['title'])"
      ],
      "metadata": {
        "colab": {
          "base_uri": "https://localhost:8080/"
        },
        "id": "vz4YblHM9yFb",
        "outputId": "1b089b48-a419-45f2-f7da-2b8af1642a43"
      },
      "execution_count": null,
      "outputs": [
        {
          "output_type": "stream",
          "name": "stdout",
          "text": [
            "A Light in the Attic\n",
            "Tipping the Velvet\n",
            "Soumission\n",
            "Sharp Objects\n",
            "Sapiens: A Brief History of Humankind\n",
            "The Requiem Red\n",
            "The Dirty Little Secrets of Getting Your Dream Job\n",
            "The Coming Woman: A Novel Based on the Life of the Infamous Feminist, Victoria Woodhull\n",
            "The Boys in the Boat: Nine Americans and Their Epic Quest for Gold at the 1936 Berlin Olympics\n",
            "The Black Maria\n",
            "Starving Hearts (Triangular Trade Trilogy, #1)\n",
            "Shakespeare's Sonnets\n",
            "Set Me Free\n",
            "Scott Pilgrim's Precious Little Life (Scott Pilgrim #1)\n",
            "Rip it Up and Start Again\n",
            "Our Band Could Be Your Life: Scenes from the American Indie Underground, 1981-1991\n",
            "Olio\n",
            "Mesaerion: The Best Science Fiction Stories 1800-1849\n",
            "Libertarianism for Beginners\n",
            "It's Only the Himalayas\n"
          ]
        }
      ]
    },
    {
      "cell_type": "code",
      "source": [
        " # Extracting book prices\n",
        "book_prices = soup.select('div p.price_color')\n",
        "for price in book_prices:\n",
        "        print(price.text)"
      ],
      "metadata": {
        "colab": {
          "base_uri": "https://localhost:8080/"
        },
        "id": "MYhTurhM_dMt",
        "outputId": "f4c8154b-1a78-4c8b-e644-0a4979828ff4"
      },
      "execution_count": null,
      "outputs": [
        {
          "output_type": "stream",
          "name": "stdout",
          "text": [
            "Â£51.77\n",
            "Â£53.74\n",
            "Â£50.10\n",
            "Â£47.82\n",
            "Â£54.23\n",
            "Â£22.65\n",
            "Â£33.34\n",
            "Â£17.93\n",
            "Â£22.60\n",
            "Â£52.15\n",
            "Â£13.99\n",
            "Â£20.66\n",
            "Â£17.46\n",
            "Â£52.29\n",
            "Â£35.02\n",
            "Â£57.25\n",
            "Â£23.88\n",
            "Â£37.59\n",
            "Â£51.33\n",
            "Â£45.17\n"
          ]
        }
      ]
    },
    {
      "cell_type": "code",
      "source": [
        "# Extract ratings for all products\n",
        "all_ratings_tags = soup.find_all('p', class_='star-rating')\n",
        "\n",
        "print(\"Ratings:\")\n",
        "for rating in all_ratings:\n",
        " print(rating)"
      ],
      "metadata": {
        "colab": {
          "base_uri": "https://localhost:8080/"
        },
        "id": "LVExQOIWB-R2",
        "outputId": "c7d4dce1-fe9c-4b39-afd2-fdb8bd36c505"
      },
      "execution_count": null,
      "outputs": [
        {
          "output_type": "stream",
          "name": "stdout",
          "text": [
            "Ratings:\n",
            "Three\n",
            "One\n",
            "One\n",
            "Four\n",
            "Five\n",
            "One\n",
            "Four\n",
            "Three\n",
            "Four\n",
            "One\n",
            "Two\n",
            "Four\n",
            "Five\n",
            "Five\n",
            "Five\n",
            "Three\n",
            "One\n",
            "One\n",
            "Two\n",
            "Two\n"
          ]
        }
      ]
    },
    {
      "cell_type": "code",
      "source": [
        "product_links = [url + a['href'] for a in soup.select('h3 a')]\n",
        "\n",
        "    # Print the links\n",
        "for link in product_links:\n",
        "        print(link)\n"
      ],
      "metadata": {
        "colab": {
          "base_uri": "https://localhost:8080/"
        },
        "id": "eiwvKWo_K-Tf",
        "outputId": "e0998816-2671-419c-828f-e1216c93b6e3"
      },
      "execution_count": null,
      "outputs": [
        {
          "output_type": "stream",
          "name": "stdout",
          "text": [
            "http://books.toscrape.com/catalogue/a-light-in-the-attic_1000/index.html\n",
            "http://books.toscrape.com/catalogue/tipping-the-velvet_999/index.html\n",
            "http://books.toscrape.com/catalogue/soumission_998/index.html\n",
            "http://books.toscrape.com/catalogue/sharp-objects_997/index.html\n",
            "http://books.toscrape.com/catalogue/sapiens-a-brief-history-of-humankind_996/index.html\n",
            "http://books.toscrape.com/catalogue/the-requiem-red_995/index.html\n",
            "http://books.toscrape.com/catalogue/the-dirty-little-secrets-of-getting-your-dream-job_994/index.html\n",
            "http://books.toscrape.com/catalogue/the-coming-woman-a-novel-based-on-the-life-of-the-infamous-feminist-victoria-woodhull_993/index.html\n",
            "http://books.toscrape.com/catalogue/the-boys-in-the-boat-nine-americans-and-their-epic-quest-for-gold-at-the-1936-berlin-olympics_992/index.html\n",
            "http://books.toscrape.com/catalogue/the-black-maria_991/index.html\n",
            "http://books.toscrape.com/catalogue/starving-hearts-triangular-trade-trilogy-1_990/index.html\n",
            "http://books.toscrape.com/catalogue/shakespeares-sonnets_989/index.html\n",
            "http://books.toscrape.com/catalogue/set-me-free_988/index.html\n",
            "http://books.toscrape.com/catalogue/scott-pilgrims-precious-little-life-scott-pilgrim-1_987/index.html\n",
            "http://books.toscrape.com/catalogue/rip-it-up-and-start-again_986/index.html\n",
            "http://books.toscrape.com/catalogue/our-band-could-be-your-life-scenes-from-the-american-indie-underground-1981-1991_985/index.html\n",
            "http://books.toscrape.com/catalogue/olio_984/index.html\n",
            "http://books.toscrape.com/catalogue/mesaerion-the-best-science-fiction-stories-1800-1849_983/index.html\n",
            "http://books.toscrape.com/catalogue/libertarianism-for-beginners_982/index.html\n",
            "http://books.toscrape.com/catalogue/its-only-the-himalayas_981/index.html\n"
          ]
        }
      ]
    },
    {
      "cell_type": "code",
      "source": [
        "from tabulate import tabulate"
      ],
      "metadata": {
        "id": "rNigRY5KMSas"
      },
      "execution_count": null,
      "outputs": []
    },
    {
      "cell_type": "code",
      "source": [
        " # Extracting information\n",
        "products = []\n",
        "\n",
        "for article in soup.find_all('article', class_='product_pod'):\n",
        "        title = article.h3.a['title']\n",
        "        rating = article.select_one('p.star-rating')['class'][1]\n",
        "        price = article.select_one('p.price_color').text\n",
        "        link = url + article.h3.a['href']\n",
        "\n",
        "        products.append([title, rating, price, link])\n",
        "\n",
        "    # Print the information in tabular format\n",
        "headers = ['Title', 'Rating', 'Price', 'Link']\n",
        "table = tabulate(products, headers=headers, tablefmt='grid')\n",
        "\n",
        "print(table)"
      ],
      "metadata": {
        "colab": {
          "base_uri": "https://localhost:8080/"
        },
        "id": "sB9VOCdqMZqj",
        "outputId": "6bd5a853-ec7a-4a1f-b839-7cac18705b50"
      },
      "execution_count": null,
      "outputs": [
        {
          "output_type": "stream",
          "name": "stdout",
          "text": [
            "+------------------------------------------------------------------------------------------------+----------+---------+--------------------------------------------------------------------------------------------------------------------------------------------------+\n",
            "| Title                                                                                          | Rating   | Price   | Link                                                                                                                                             |\n",
            "+================================================================================================+==========+=========+==================================================================================================================================================+\n",
            "| A Light in the Attic                                                                           | Three    | Â£51.77 | http://books.toscrape.com/catalogue/a-light-in-the-attic_1000/index.html                                                                         |\n",
            "+------------------------------------------------------------------------------------------------+----------+---------+--------------------------------------------------------------------------------------------------------------------------------------------------+\n",
            "| Tipping the Velvet                                                                             | One      | Â£53.74 | http://books.toscrape.com/catalogue/tipping-the-velvet_999/index.html                                                                            |\n",
            "+------------------------------------------------------------------------------------------------+----------+---------+--------------------------------------------------------------------------------------------------------------------------------------------------+\n",
            "| Soumission                                                                                     | One      | Â£50.10 | http://books.toscrape.com/catalogue/soumission_998/index.html                                                                                    |\n",
            "+------------------------------------------------------------------------------------------------+----------+---------+--------------------------------------------------------------------------------------------------------------------------------------------------+\n",
            "| Sharp Objects                                                                                  | Four     | Â£47.82 | http://books.toscrape.com/catalogue/sharp-objects_997/index.html                                                                                 |\n",
            "+------------------------------------------------------------------------------------------------+----------+---------+--------------------------------------------------------------------------------------------------------------------------------------------------+\n",
            "| Sapiens: A Brief History of Humankind                                                          | Five     | Â£54.23 | http://books.toscrape.com/catalogue/sapiens-a-brief-history-of-humankind_996/index.html                                                          |\n",
            "+------------------------------------------------------------------------------------------------+----------+---------+--------------------------------------------------------------------------------------------------------------------------------------------------+\n",
            "| The Requiem Red                                                                                | One      | Â£22.65 | http://books.toscrape.com/catalogue/the-requiem-red_995/index.html                                                                               |\n",
            "+------------------------------------------------------------------------------------------------+----------+---------+--------------------------------------------------------------------------------------------------------------------------------------------------+\n",
            "| The Dirty Little Secrets of Getting Your Dream Job                                             | Four     | Â£33.34 | http://books.toscrape.com/catalogue/the-dirty-little-secrets-of-getting-your-dream-job_994/index.html                                            |\n",
            "+------------------------------------------------------------------------------------------------+----------+---------+--------------------------------------------------------------------------------------------------------------------------------------------------+\n",
            "| The Coming Woman: A Novel Based on the Life of the Infamous Feminist, Victoria Woodhull        | Three    | Â£17.93 | http://books.toscrape.com/catalogue/the-coming-woman-a-novel-based-on-the-life-of-the-infamous-feminist-victoria-woodhull_993/index.html         |\n",
            "+------------------------------------------------------------------------------------------------+----------+---------+--------------------------------------------------------------------------------------------------------------------------------------------------+\n",
            "| The Boys in the Boat: Nine Americans and Their Epic Quest for Gold at the 1936 Berlin Olympics | Four     | Â£22.60 | http://books.toscrape.com/catalogue/the-boys-in-the-boat-nine-americans-and-their-epic-quest-for-gold-at-the-1936-berlin-olympics_992/index.html |\n",
            "+------------------------------------------------------------------------------------------------+----------+---------+--------------------------------------------------------------------------------------------------------------------------------------------------+\n",
            "| The Black Maria                                                                                | One      | Â£52.15 | http://books.toscrape.com/catalogue/the-black-maria_991/index.html                                                                               |\n",
            "+------------------------------------------------------------------------------------------------+----------+---------+--------------------------------------------------------------------------------------------------------------------------------------------------+\n",
            "| Starving Hearts (Triangular Trade Trilogy, #1)                                                 | Two      | Â£13.99 | http://books.toscrape.com/catalogue/starving-hearts-triangular-trade-trilogy-1_990/index.html                                                    |\n",
            "+------------------------------------------------------------------------------------------------+----------+---------+--------------------------------------------------------------------------------------------------------------------------------------------------+\n",
            "| Shakespeare's Sonnets                                                                          | Four     | Â£20.66 | http://books.toscrape.com/catalogue/shakespeares-sonnets_989/index.html                                                                          |\n",
            "+------------------------------------------------------------------------------------------------+----------+---------+--------------------------------------------------------------------------------------------------------------------------------------------------+\n",
            "| Set Me Free                                                                                    | Five     | Â£17.46 | http://books.toscrape.com/catalogue/set-me-free_988/index.html                                                                                   |\n",
            "+------------------------------------------------------------------------------------------------+----------+---------+--------------------------------------------------------------------------------------------------------------------------------------------------+\n",
            "| Scott Pilgrim's Precious Little Life (Scott Pilgrim #1)                                        | Five     | Â£52.29 | http://books.toscrape.com/catalogue/scott-pilgrims-precious-little-life-scott-pilgrim-1_987/index.html                                           |\n",
            "+------------------------------------------------------------------------------------------------+----------+---------+--------------------------------------------------------------------------------------------------------------------------------------------------+\n",
            "| Rip it Up and Start Again                                                                      | Five     | Â£35.02 | http://books.toscrape.com/catalogue/rip-it-up-and-start-again_986/index.html                                                                     |\n",
            "+------------------------------------------------------------------------------------------------+----------+---------+--------------------------------------------------------------------------------------------------------------------------------------------------+\n",
            "| Our Band Could Be Your Life: Scenes from the American Indie Underground, 1981-1991             | Three    | Â£57.25 | http://books.toscrape.com/catalogue/our-band-could-be-your-life-scenes-from-the-american-indie-underground-1981-1991_985/index.html              |\n",
            "+------------------------------------------------------------------------------------------------+----------+---------+--------------------------------------------------------------------------------------------------------------------------------------------------+\n",
            "| Olio                                                                                           | One      | Â£23.88 | http://books.toscrape.com/catalogue/olio_984/index.html                                                                                          |\n",
            "+------------------------------------------------------------------------------------------------+----------+---------+--------------------------------------------------------------------------------------------------------------------------------------------------+\n",
            "| Mesaerion: The Best Science Fiction Stories 1800-1849                                          | One      | Â£37.59 | http://books.toscrape.com/catalogue/mesaerion-the-best-science-fiction-stories-1800-1849_983/index.html                                          |\n",
            "+------------------------------------------------------------------------------------------------+----------+---------+--------------------------------------------------------------------------------------------------------------------------------------------------+\n",
            "| Libertarianism for Beginners                                                                   | Two      | Â£51.33 | http://books.toscrape.com/catalogue/libertarianism-for-beginners_982/index.html                                                                  |\n",
            "+------------------------------------------------------------------------------------------------+----------+---------+--------------------------------------------------------------------------------------------------------------------------------------------------+\n",
            "| It's Only the Himalayas                                                                        | Two      | Â£45.17 | http://books.toscrape.com/catalogue/its-only-the-himalayas_981/index.html                                                                        |\n",
            "+------------------------------------------------------------------------------------------------+----------+---------+--------------------------------------------------------------------------------------------------------------------------------------------------+\n"
          ]
        }
      ]
    }
  ]
}